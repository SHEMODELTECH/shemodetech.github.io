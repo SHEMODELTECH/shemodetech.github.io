{
  "nbformat": 4,
  "nbformat_minor": 0,
  "metadata": {
    "colab": {
      "provenance": [],
      "authorship_tag": "ABX9TyOTf6W3xZHDJ6uZlY3cIvim",
      "include_colab_link": true
    },
    "kernelspec": {
      "name": "python3",
      "display_name": "Python 3"
    },
    "language_info": {
      "name": "python"
    }
  },
  "cells": [
    {
      "cell_type": "markdown",
      "metadata": {
        "id": "view-in-github",
        "colab_type": "text"
      },
      "source": [
        "<a href=\"https://colab.research.google.com/github/SHEMODELTECH/shemodetech.github.io/blob/main/Build_in_functions.ipynb\" target=\"_parent\"><img src=\"https://colab.research.google.com/assets/colab-badge.svg\" alt=\"Open In Colab\"/></a>"
      ]
    },
    {
      "cell_type": "markdown",
      "source": [
        "The type()"
      ],
      "metadata": {
        "id": "8FyGLYS_BYLC"
      }
    },
    {
      "cell_type": "code",
      "execution_count": null,
      "metadata": {
        "colab": {
          "base_uri": "https://localhost:8080/"
        },
        "id": "C7473kNg4rvD",
        "outputId": "1bf87549-625c-4df8-b163-6b13f61544b7"
      },
      "outputs": [
        {
          "output_type": "stream",
          "name": "stdout",
          "text": [
            "5\n"
          ]
        }
      ],
      "source": [
        "data = 5\n",
        "print (data)"
      ]
    },
    {
      "cell_type": "code",
      "source": [
        "#Write a python program that display the type of data contained in a variable name called data with a value of 5\n",
        "\n",
        "#recall that python contains only 3 datatypes which are (Integer, Float and String)\n",
        "\n",
        "data = 5\n",
        "\n",
        "#we have a build-in function that help us determine the type of variable in a program\n",
        "\n",
        "#To display the type of datatype contained in a variable we have a built-in python function that can show us which is: type()\n",
        "\n",
        "data = type(5)\n",
        "print(data)\n"
      ],
      "metadata": {
        "colab": {
          "base_uri": "https://localhost:8080/"
        },
        "id": "P7ySYKkq-AU2",
        "outputId": "5aa7b26d-aa3d-4c5d-8272-c3a2c548aa3b"
      },
      "execution_count": null,
      "outputs": [
        {
          "output_type": "stream",
          "name": "stdout",
          "text": [
            "<class 'int'>\n"
          ]
        }
      ]
    },
    {
      "cell_type": "code",
      "source": [
        "#Example 2\n",
        "\n",
        "##Write a python program that display the type of data contained in a school records that contained the students cgpa with a value of 56.789\n",
        "\n",
        "student_cgpa = type(56.789)\n",
        "print(student_cgpa)\n",
        "\n"
      ],
      "metadata": {
        "id": "OwB6ftUN_AQg",
        "colab": {
          "base_uri": "https://localhost:8080/"
        },
        "outputId": "9c083443-8c60-4a7d-da9d-97abe41970ef"
      },
      "execution_count": null,
      "outputs": [
        {
          "output_type": "stream",
          "name": "stdout",
          "text": [
            "<class 'float'>\n"
          ]
        }
      ]
    },
    {
      "cell_type": "code",
      "source": [
        "#Example 4\n",
        "\n",
        "#write a program the displayed the type of data contained in the last christmas and new year wishes \n",
        "#which includes \"Happy new year and merry christmas in advance\"\n",
        "\n",
        "greetings = type(\"Happy new year and merry chritmas in advance\")\n",
        "print(greetings)\n"
      ],
      "metadata": {
        "colab": {
          "base_uri": "https://localhost:8080/"
        },
        "id": "0nfMv8Jo_qCO",
        "outputId": "2866fd1c-7c09-48f2-c24f-6438fa4df898"
      },
      "execution_count": null,
      "outputs": [
        {
          "output_type": "stream",
          "name": "stdout",
          "text": [
            "<class 'str'>\n"
          ]
        }
      ]
    },
    {
      "cell_type": "markdown",
      "source": [
        "The input() "
      ],
      "metadata": {
        "id": "RyXs6TCBBTY2"
      }
    },
    {
      "cell_type": "code",
      "source": [
        "#write a python program to accepts users input and display the result.\n",
        "\n",
        "users_input = input(\"Enter a number\")"
      ],
      "metadata": {
        "colab": {
          "base_uri": "https://localhost:8080/"
        },
        "id": "z72Om8ELAlWt",
        "outputId": "6a4861a5-06af-49f9-d00e-48453226e7fb"
      },
      "execution_count": null,
      "outputs": [
        {
          "name": "stdout",
          "output_type": "stream",
          "text": [
            "Enter a number6\n"
          ]
        }
      ]
    },
    {
      "cell_type": "code",
      "source": [],
      "metadata": {
        "id": "rqV6mKgGB9c6"
      },
      "execution_count": null,
      "outputs": []
    }
  ]
}